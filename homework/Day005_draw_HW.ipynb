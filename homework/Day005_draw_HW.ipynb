{
 "cells": [
  {
   "cell_type": "code",
   "execution_count": 1,
   "metadata": {},
   "outputs": [],
   "source": [
    "import cv2\n",
    "import numpy as np\n",
    "image_path = 'data/lena.png'\n",
    "img=cv2.imread(image_path)"
   ]
  },
  {
   "cell_type": "code",
   "execution_count": 2,
   "metadata": {},
   "outputs": [],
   "source": [
    "#對明亮度做直方圖均衡\n",
    "img_hsv = cv2.cvtColor(img, cv2.COLOR_BGR2HSV)\n",
    "img_hsv[...,-1] = cv2.equalizeHist(img_hsv[...,-1])\n",
    "img = cv2.cvtColor(img_hsv, cv2.COLOR_HSV2BGR)\n",
    "\n",
    "#矩形邊框\n",
    "img_rect= cv2.rectangle(img, (60,40), (420,510), (0,0,255), 3)\n",
    "\n",
    "#水平翻轉\n",
    "img_hol= img_rect[:,::-1,:]\n",
    "\n",
    "#圖片縮放0.5倍\n",
    "img_res = cv2.resize(img_hol, None, fx=0.5, fy=0.5, interpolation=cv2.INTER_LINEAR)\n",
    "\n"
   ]
  },
  {
   "cell_type": "code",
   "execution_count": 3,
   "metadata": {},
   "outputs": [],
   "source": [
    "while True:\n",
    "    cv2.imshow('img_res', img_res)\n",
    "    \n",
    "    k = cv2.waitKey(0)\n",
    "    if k == 27:\n",
    "        cv2.destroyAllWindows()\n",
    "        break\n"
   ]
  },
  {
   "cell_type": "code",
   "execution_count": 8,
   "metadata": {},
   "outputs": [
    {
     "name": "stdout",
     "output_type": "stream",
     "text": [
      "origin point1=[-60, 40], origin point2=[-420, 510]\n",
      "resize point1=(226, 20), resize point2=(46, 255)\n"
     ]
    }
   ],
   "source": [
    "#求新的邊框座標\n",
    "\n",
    "point1=[60,40]\n",
    "point2=[420,510]\n",
    "\n",
    "fx=0.5\n",
    "fy=0.5\n",
    "\n",
    "# 透過四則運算計算鏡像後位置\n",
    "# 確保點的位置一樣是左上跟右下，所以交換鏡像後的 x 座標 (y 座標做水平鏡像後位置不變)\n",
    "\n",
    "point1[0] = -point1[0]\n",
    "point2[0] = -point2[0]\n",
    "\n",
    "\n",
    "resize_col = int(img_hol.shape[1]*fx)\n",
    "resize_row = int(img_hol.shape[0]*fy)\n",
    "\n",
    "# 建構 scale matrix\n",
    "\n",
    "M_scale = np.array([[fx, 0, 0],[0, fy, 0]], dtype=np.float32)\n",
    "img_hol = cv2.warpAffine(img_hol, M_scale, (resize_col, resize_row))\n",
    "\n",
    "# 把左上跟右下轉為矩陣型式\n",
    "bbox = np.array((point1, point2), dtype=np.float32)\n",
    "#print('M_scale.shape={}, bbox.shape={}'.format(M_scale.shape, bbox.shape))\n",
    "\n",
    "# 做矩陣乘法可以使用 `np.dot`, 為了做矩陣乘法, M_scale 需要做轉置之後才能相乘\n",
    "homo_coor_result = np.dot(M_scale.T, bbox)\n",
    "homo_coor_result = homo_coor_result.astype('uint8')\n",
    "#print(homo_coor_result)\n",
    "scale_point1 = tuple(homo_coor_result[0])\n",
    "scale_point2 = tuple(homo_coor_result[1])\n",
    "print('origin point1={}, origin point2={}'.format(point1, point2))\n",
    "print('resize point1={}, resize point2={}'.format(scale_point1, scale_point2))"
   ]
  },
  {
   "cell_type": "code",
   "execution_count": null,
   "metadata": {},
   "outputs": [],
   "source": []
  },
  {
   "cell_type": "code",
   "execution_count": null,
   "metadata": {},
   "outputs": [],
   "source": []
  }
 ],
 "metadata": {
  "kernelspec": {
   "display_name": "Python 3",
   "language": "python",
   "name": "python3"
  },
  "language_info": {
   "codemirror_mode": {
    "name": "ipython",
    "version": 3
   },
   "file_extension": ".py",
   "mimetype": "text/x-python",
   "name": "python",
   "nbconvert_exporter": "python",
   "pygments_lexer": "ipython3",
   "version": "3.7.3"
  }
 },
 "nbformat": 4,
 "nbformat_minor": 2
}
