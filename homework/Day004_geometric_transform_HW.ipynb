{
 "cells": [
  {
   "cell_type": "code",
   "execution_count": 1,
   "metadata": {},
   "outputs": [],
   "source": [
    "import cv2\n",
    "import numpy as np"
   ]
  },
  {
   "cell_type": "code",
   "execution_count": 2,
   "metadata": {},
   "outputs": [],
   "source": [
    "img_path ='data/lena.png'\n",
    "img=cv2.imread(img_path)"
   ]
  },
  {
   "cell_type": "markdown",
   "metadata": {},
   "source": [
    "## 上下翻轉"
   ]
  },
  {
   "cell_type": "code",
   "execution_count": 5,
   "metadata": {},
   "outputs": [],
   "source": [
    "img_vertical= img[::-1,:,:]\n",
    "img_ver_change = np.vstack((img, img_vertical))\n",
    "while True:\n",
    "    cv2.imshow('change vertical', img_ver_change)\n",
    "    \n",
    "    k = cv2.waitKey(0)\n",
    "    if k == 27:\n",
    "        cv2.destroyAllWindows()\n",
    "        break"
   ]
  },
  {
   "cell_type": "markdown",
   "metadata": {},
   "source": [
    "## 圖片縮放"
   ]
  },
  {
   "cell_type": "code",
   "execution_count": 15,
   "metadata": {},
   "outputs": [],
   "source": [
    "img_res = cv2.resize(img, None, fx=0.2, fy=0.2)\n",
    "x= 8\n",
    "y= 8\n",
    "img_near = cv2.resize(img_res, None, fx=x, fy=y, interpolation= cv2.INTER_NEAREST)\n",
    "orig_img = cv2.resize(img, img_near.shape[:2])\n",
    "img_scale = np.hstack((orig_img, img_near))\n",
    "\n",
    "while True:\n",
    "    cv2.imshow('change scale', img_scale)\n",
    "    \n",
    "    k = cv2.waitKey(0)\n",
    "    if k == 27:\n",
    "        cv2.destroyAllWindows()\n",
    "        break"
   ]
  },
  {
   "cell_type": "markdown",
   "metadata": {},
   "source": [
    "## 圖片平移"
   ]
  },
  {
   "cell_type": "code",
   "execution_count": 16,
   "metadata": {},
   "outputs": [],
   "source": [
    "M=np.array([[1,0,100],[0,1,50]],dtype = np.float32)\n",
    "img_shift = cv2.warpAffine(img, M, (img.shape[1], img.shape[0]))\n",
    "shift_img = np.hstack((img, img_shift))\n",
    "\n",
    "while True:\n",
    "    cv2.imshow('shift image', shift_img)\n",
    "    k = cv2.waitKey(0)\n",
    "    if k == 27:\n",
    "        cv2.destroyAllWindows()\n",
    "        break"
   ]
  },
  {
   "cell_type": "code",
   "execution_count": null,
   "metadata": {},
   "outputs": [],
   "source": []
  }
 ],
 "metadata": {
  "kernelspec": {
   "display_name": "Python 3",
   "language": "python",
   "name": "python3"
  },
  "language_info": {
   "codemirror_mode": {
    "name": "ipython",
    "version": 3
   },
   "file_extension": ".py",
   "mimetype": "text/x-python",
   "name": "python",
   "nbconvert_exporter": "python",
   "pygments_lexer": "ipython3",
   "version": "3.7.3"
  }
 },
 "nbformat": 4,
 "nbformat_minor": 2
}
